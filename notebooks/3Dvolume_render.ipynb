{
 "cells": [
  {
   "cell_type": "markdown",
   "id": "002ea660-61b4-495d-9438-33c69a9bed5a",
   "metadata": {},
   "source": [
    "---\n",
    "title: 3D Volume Renderer Notebook\n",
    "---"
   ]
  },
  {
   "cell_type": "code",
   "execution_count": 1,
   "id": "5e974723",
   "metadata": {},
   "outputs": [],
   "source": [
    "import numpy as np\n",
    "from tifffile import imread\n",
    "import k3d"
   ]
  },
  {
   "cell_type": "code",
   "execution_count": 6,
   "id": "8a247d96",
   "metadata": {},
   "outputs": [],
   "source": [
    "# Load the TIFF file into a NumPy array\n",
    "tiff_array = imread(\n",
    "    'data/Li_and_Cu_segmented_SaveImage11-19.align.view.labels_3dtiff.tif'\n",
    ").transpose(1,2,0).astype(np.float16)\n",
    "\n",
    "# Define RGB colors for each label (0 = background, 1 = other, 2 = Cu, 3 = Li)\n",
    "label_colors = {\n",
    "    0: [255, 255, 255],         # white for background\n",
    "    1: [255, 255, 0],     # yellow for other label (if exists)\n",
    "    2: [75, 0, 146],   # True magenta for Current Collector\n",
    "    3: [26, 255, 26]        # lime green for Li \n",
    "}\n",
    "\n",
    "# Create an empty RGB volume\n",
    "rgb_volume = np.zeros(tiff_array.shape + (3,), dtype=np.float16)\n",
    "\n",
    "# Map labels to RGB\n",
    "for label, color in label_colors.items():\n",
    "    rgb_volume[tiff_array == label] = color\n",
    "\n",
    "nx, ny, nz = tiff_array.shape"
   ]
  },
  {
   "cell_type": "code",
   "execution_count": 9,
   "id": "a7e23325",
   "metadata": {},
   "outputs": [],
   "source": [
    "vol = k3d.volume(\n",
    "    # rgb_volume, \n",
    "    # color_range=[0,3],\n",
    "    tiff_array,\n",
    "    # bounds=[0, nz, 0, ny, 0, nx],\n",
    ")"
   ]
  },
  {
   "cell_type": "code",
   "execution_count": 10,
   "id": "1291c6a0",
   "metadata": {},
   "outputs": [
    {
     "data": {
      "application/vnd.jupyter.widget-view+json": {
       "model_id": "2522f66b57fb447b94645e040bd46ed1",
       "version_major": 2,
       "version_minor": 0
      },
      "text/plain": [
       "Output()"
      ]
     },
     "metadata": {},
     "output_type": "display_data"
    }
   ],
   "source": [
    "#| label: app:3d_volume_render\n",
    "plot = k3d.plot(\n",
    "    grid_visible=False, # hide grid\n",
    "    axes_helper=0, # hide axes\n",
    "    menu_visibility=False, # hide menu\n",
    "    colorbar_object_id=0,\n",
    ")\n",
    "plot += vol\n",
    "\n",
    "plot.display()"
   ]
  },
  {
   "cell_type": "code",
   "execution_count": null,
   "id": "6d98b707-c14b-41c1-8fd2-2b7a5012f809",
   "metadata": {},
   "outputs": [],
   "source": []
  }
 ],
 "metadata": {
  "kernelspec": {
   "display_name": "Python 3 (ipykernel)",
   "language": "python",
   "name": "python3"
  },
  "language_info": {
   "codemirror_mode": {
    "name": "ipython",
    "version": 3
   },
   "file_extension": ".py",
   "mimetype": "text/x-python",
   "name": "python",
   "nbconvert_exporter": "python",
   "pygments_lexer": "ipython3",
   "version": "3.12.8"
  }
 },
 "nbformat": 4,
 "nbformat_minor": 5
}
