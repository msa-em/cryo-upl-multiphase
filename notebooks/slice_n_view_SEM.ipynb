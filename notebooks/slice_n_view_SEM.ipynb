{
 "cells": [
  {
   "cell_type": "markdown",
   "id": "21c7879b",
   "metadata": {},
   "source": [
    "---\n",
    "title: SEM Slicer\n",
    "---"
   ]
  },
  {
   "cell_type": "code",
   "execution_count": 1,
   "id": "9d96de53-abe4-44bc-940c-9acf57dc5a8d",
   "metadata": {},
   "outputs": [],
   "source": [
    "import numpy as np\n",
    "from tifffile import imread\n",
    "import matplotlib.pyplot as plt\n",
    "import matplotlib.patches as mpatches\n",
    "import matplotlib.cbook as cbook\n",
    "from matplotlib_scalebar.scalebar import ScaleBar\n",
    "from ipywidgets import interact, IntSlider"
   ]
  },
  {
   "cell_type": "code",
   "execution_count": 2,
   "id": "fb31a0ca-7878-421b-bd77-467e980b56d9",
   "metadata": {},
   "outputs": [
    {
     "ename": "FileNotFoundError",
     "evalue": "[Errno 2] No such file or directory: '/Users/gvarnavides/Documents/myst-sites/large-fov-multiphase-materials/notebooks/data/AlignedFilteredSEMData_SaveImage11-19.align.view3.filtered_3dtiff.tif'",
     "output_type": "error",
     "traceback": [
      "\u001b[31m---------------------------------------------------------------------------\u001b[39m",
      "\u001b[31mFileNotFoundError\u001b[39m                         Traceback (most recent call last)",
      "\u001b[32m/var/folders/yv/3_fvvfd97_9f0_xdt_0k38zh0000gn/T/ipykernel_2465/511800093.py\u001b[39m in \u001b[36m?\u001b[39m\u001b[34m()\u001b[39m\n\u001b[32m      1\u001b[39m \u001b[38;5;66;03m# Load the TIFF file into a NumPy array\u001b[39;00m\n\u001b[32m----> \u001b[39m\u001b[32m2\u001b[39m tiff_array = imread(\u001b[33m'data/AlignedFilteredSEMData_SaveImage11-19.align.view3.filtered_3dtiff.tif'\u001b[39m)\n\u001b[32m      3\u001b[39m \n\u001b[32m      4\u001b[39m \u001b[38;5;66;03m# Check the dimensions of the array\u001b[39;00m\n\u001b[32m      5\u001b[39m print(tiff_array.shape)\n",
      "\u001b[32m~/Documents/myst-sites/large-fov-multiphase-materials/.venv/lib/python3.12/site-packages/tifffile/tifffile.py\u001b[39m in \u001b[36m?\u001b[39m\u001b[34m(files, selection, aszarr, key, series, level, squeeze, maxworkers, buffersize, mode, name, offset, size, pattern, axesorder, categories, imread, imreadargs, sort, container, chunkshape, chunkdtype, axestiled, ioworkers, chunkmode, fillvalue, zattrs, multiscales, omexml, out, out_inplace, _multifile, _useframes, **kwargs)\u001b[39m\n\u001b[32m   1203\u001b[39m         ):\n\u001b[32m   1204\u001b[39m             files = files[\u001b[32m0\u001b[39m]\n\u001b[32m   1205\u001b[39m \n\u001b[32m   1206\u001b[39m         \u001b[38;5;28;01mif\u001b[39;00m isinstance(files, str) \u001b[38;5;28;01mor\u001b[39;00m \u001b[38;5;28;01mnot\u001b[39;00m isinstance(files, Sequence):\n\u001b[32m-> \u001b[39m\u001b[32m1207\u001b[39m             with TiffFile(\n\u001b[32m   1208\u001b[39m                 files,\n\u001b[32m   1209\u001b[39m                 mode=mode,\n\u001b[32m   1210\u001b[39m                 name=name,\n",
      "\u001b[32m~/Documents/myst-sites/large-fov-multiphase-materials/.venv/lib/python3.12/site-packages/tifffile/tifffile.py\u001b[39m in \u001b[36m?\u001b[39m\u001b[34m(self, file, mode, name, offset, size, omexml, _multifile, _useframes, _parent, **is_flags)\u001b[39m\n\u001b[32m   4278\u001b[39m                 \u001b[38;5;28;01mraise\u001b[39;00m ValueError(\u001b[33m'invalid OME-XML'\u001b[39m)\n\u001b[32m   4279\u001b[39m             self._omexml = omexml\n\u001b[32m   4280\u001b[39m             self.is_ome = \u001b[38;5;28;01mTrue\u001b[39;00m\n\u001b[32m   4281\u001b[39m \n\u001b[32m-> \u001b[39m\u001b[32m4282\u001b[39m         fh = FileHandle(file, mode=mode, name=name, offset=offset, size=size)\n\u001b[32m   4283\u001b[39m         self._fh = fh\n\u001b[32m   4284\u001b[39m         self._multifile = \u001b[38;5;28;01mTrue\u001b[39;00m \u001b[38;5;28;01mif\u001b[39;00m _multifile \u001b[38;5;28;01mis\u001b[39;00m \u001b[38;5;28;01mNone\u001b[39;00m \u001b[38;5;28;01melse\u001b[39;00m bool(_multifile)\n\u001b[32m   4285\u001b[39m         self._files = {fh.name: self}\n",
      "\u001b[32m~/Documents/myst-sites/large-fov-multiphase-materials/.venv/lib/python3.12/site-packages/tifffile/tifffile.py\u001b[39m in \u001b[36m?\u001b[39m\u001b[34m(self, file, mode, name, offset, size)\u001b[39m\n\u001b[32m  13323\u001b[39m         self._offset = -\u001b[32m1\u001b[39m \u001b[38;5;28;01mif\u001b[39;00m offset \u001b[38;5;28;01mis\u001b[39;00m \u001b[38;5;28;01mNone\u001b[39;00m \u001b[38;5;28;01melse\u001b[39;00m offset\n\u001b[32m  13324\u001b[39m         self._size = -\u001b[32m1\u001b[39m \u001b[38;5;28;01mif\u001b[39;00m size \u001b[38;5;28;01mis\u001b[39;00m \u001b[38;5;28;01mNone\u001b[39;00m \u001b[38;5;28;01melse\u001b[39;00m size\n\u001b[32m  13325\u001b[39m         self._close = \u001b[38;5;28;01mTrue\u001b[39;00m\n\u001b[32m  13326\u001b[39m         self._lock = NullContext()\n\u001b[32m> \u001b[39m\u001b[32m13327\u001b[39m         self.open()\n\u001b[32m  13328\u001b[39m         \u001b[38;5;28;01massert\u001b[39;00m self._fh \u001b[38;5;28;01mis\u001b[39;00m \u001b[38;5;28;01mnot\u001b[39;00m \u001b[38;5;28;01mNone\u001b[39;00m\n",
      "\u001b[32m~/Documents/myst-sites/large-fov-multiphase-materials/.venv/lib/python3.12/site-packages/tifffile/tifffile.py\u001b[39m in \u001b[36m?\u001b[39m\u001b[34m(self)\u001b[39m\n\u001b[32m  13342\u001b[39m             \u001b[38;5;28;01mif\u001b[39;00m self._mode \u001b[38;5;28;01mnot\u001b[39;00m \u001b[38;5;28;01min\u001b[39;00m {\u001b[33m'rb'\u001b[39m, \u001b[33m'r+b'\u001b[39m, \u001b[33m'wb'\u001b[39m, \u001b[33m'xb'\u001b[39m}:\n\u001b[32m  13343\u001b[39m                 \u001b[38;5;28;01mraise\u001b[39;00m ValueError(f'invalid mode {self._mode}')\n\u001b[32m  13344\u001b[39m             self._file = os.path.realpath(self._file)\n\u001b[32m  13345\u001b[39m             self._dir, self._name = os.path.split(self._file)\n\u001b[32m> \u001b[39m\u001b[32m13346\u001b[39m             self._fh = open(self._file, self._mode, encoding=\u001b[38;5;28;01mNone\u001b[39;00m)\n\u001b[32m  13347\u001b[39m             self._close = \u001b[38;5;28;01mTrue\u001b[39;00m\n\u001b[32m  13348\u001b[39m             self._offset = max(\u001b[32m0\u001b[39m, self._offset)\n\u001b[32m  13349\u001b[39m         \u001b[38;5;28;01melif\u001b[39;00m isinstance(self._file, FileHandle):\n",
      "\u001b[31mFileNotFoundError\u001b[39m: [Errno 2] No such file or directory: '/Users/gvarnavides/Documents/myst-sites/large-fov-multiphase-materials/notebooks/data/AlignedFilteredSEMData_SaveImage11-19.align.view3.filtered_3dtiff.tif'"
     ]
    }
   ],
   "source": [
    "# Load the TIFF file into a NumPy array\n",
    "tiff_array = imread('data/AlignedFilteredSEMData_SaveImage11-19.align.view3.to-byte01.resampled_2.tif')\n",
    "\n",
    "# Check the dimensions of the array\n",
    "print(tiff_array.shape)"
   ]
  },
  {
   "cell_type": "code",
   "execution_count": 3,
   "id": "e513ef3a-edb5-4941-97ed-d11b0e94d6dc",
   "metadata": {},
   "outputs": [],
   "source": [
    "def show_slice(data, slice_num):\n",
    "        fig, ax = plt.subplots()\n",
    "        ax.imshow(data[slice_num, :, :], cmap='Greys_r')\n",
    "        plt.title(f'slice number: {slice_num}')\n",
    "        ax.axis('off')\n",
    "        scalebar = ScaleBar(200, \"nm\", length_fraction=0.1, location=\"lower right\")\n",
    "        ax.set_aspect(1)\n",
    "        ax.add_artist(scalebar)\n",
    "        plt.show()"
   ]
  },
  {
   "cell_type": "code",
   "execution_count": null,
   "id": "96290e88-c7ba-44ed-ae7e-8383ed7fd26d",
   "metadata": {},
   "outputs": [
    {
     "data": {
      "application/vnd.jupyter.widget-view+json": {
       "model_id": "b382fdcee28b46a591fd3bfaed455323",
       "version_major": 2,
       "version_minor": 0
      },
      "text/plain": [
       "interactive(children=(IntSlider(value=0, description='Slice Number', max=61), Output()), _dom_classes=('widget…"
      ]
     },
     "metadata": {},
     "output_type": "display_data"
    }
   ],
   "source": [
    "#| label: app:SEM_2D_slicer\n",
    "\n",
    "@interact(slice_num=IntSlider(min=0, max=tiff_array.shape[0]-1, step=1, description='Slice Number'))\n",
    "def explore_slices(slice_num):\n",
    "    show_slice(tiff_array, slice_num)"
   ]
  }
 ],
 "metadata": {
  "kernelspec": {
   "display_name": "Python 3 (ipykernel)",
   "language": "python",
   "name": "python3"
  },
  "language_info": {
   "codemirror_mode": {
    "name": "ipython",
    "version": 3
   },
   "file_extension": ".py",
   "mimetype": "text/x-python",
   "name": "python",
   "nbconvert_exporter": "python",
   "pygments_lexer": "ipython3",
   "version": "3.12.8"
  }
 },
 "nbformat": 4,
 "nbformat_minor": 5
}
