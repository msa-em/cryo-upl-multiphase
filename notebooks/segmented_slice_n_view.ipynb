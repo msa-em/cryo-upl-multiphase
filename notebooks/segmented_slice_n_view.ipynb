{
 "cells": [
  {
   "cell_type": "markdown",
   "id": "797c00fb",
   "metadata": {},
   "source": [
    "---\n",
    "title: 2D Segmented Slice-and-View\n",
    "---"
   ]
  },
  {
   "cell_type": "code",
   "execution_count": 1,
   "id": "808ea3f0-eca9-47f8-b8e5-b55cd1424147",
   "metadata": {},
   "outputs": [],
   "source": [
    "import numpy as np\n",
    "from tifffile import imread\n",
    "import matplotlib.pyplot as plt\n",
    "import matplotlib as mpl\n",
    "import matplotlib.patches as mpatches\n",
    "import matplotlib.cbook as cbook\n",
    "from matplotlib_scalebar.scalebar import ScaleBar\n",
    "from ipywidgets import interact, IntSlider"
   ]
  },
  {
   "cell_type": "code",
   "execution_count": 2,
   "id": "f3c3b07a-f9ce-4e22-a47e-0c2a2b6f754b",
   "metadata": {},
   "outputs": [],
   "source": [
    "# Load the TIFF file into a NumPy array\n",
    "label_volume = imread('data/Li_and_Cu_segmented_SaveImage11-19.align.view.labels_3dtiff.tif')\n",
    "\n",
    "# Define RGB colors for each label (0 = background, 1 = other, 2 = Cu, 3 = Li)\n",
    "label_colors = {\n",
    "    0: [255, 255, 255],         # white for background\n",
    "    1: [255, 255, 0],     # yellow for other label (if exists)\n",
    "    2: [255, 194, 10],   # dark magenta for Current Collector\n",
    "    3: [12, 123, 220]        # dark green for Li \n",
    "}\n",
    "\n",
    "# Create an empty RGB volume\n",
    "rgb_volume = np.zeros(label_volume.shape + (3,), dtype=np.uint8)\n",
    "\n",
    "# Map labels to RGB\n",
    "for label, color in label_colors.items():\n",
    "    rgb_volume[label_volume == label] = color\n",
    "\n",
    "# Check the dimensions of the array\n",
    "#print(tiff_array)"
   ]
  },
  {
   "cell_type": "code",
   "execution_count": 6,
   "id": "5ade6d22-7404-44d1-8e3f-4ba54c4b39b6",
   "metadata": {},
   "outputs": [],
   "source": [
    "def show_slice(data, slice_num):\n",
    "        fig, ax = plt.subplots(layout= 'constrained')\n",
    "        ax.imshow(data[slice_num, :, :])\n",
    "        plt.title(f'slice number: {slice_num}')\n",
    "        ax.axis('off')\n",
    "        CC = mpatches.Patch(color= '#ffc20A', label='Current Collector')\n",
    "        Li = mpatches.Patch(color= '#0c7bdc', label='Lithium')\n",
    "        ax.legend(handles=[CC, Li], loc='upper left')\n",
    "        scalebar = ScaleBar(200, \"nm\", length_fraction=0.1, location=\"lower right\")\n",
    "        ax.set_aspect(1)\n",
    "        ax.add_artist(scalebar)\n",
    "        plt.show()"
   ]
  },
  {
   "cell_type": "code",
   "execution_count": null,
   "id": "5f06f5ce-5825-4437-8fd3-50101b791582",
   "metadata": {},
   "outputs": [
    {
     "data": {
      "application/vnd.jupyter.widget-view+json": {
       "model_id": "b2d4e79072ea4fe1ae6b9dc1a413327d",
       "version_major": 2,
       "version_minor": 0
      },
      "text/plain": [
       "interactive(children=(IntSlider(value=0, description='Slice Number', max=61), Output()), _dom_classes=('widget…"
      ]
     },
     "metadata": {},
     "output_type": "display_data"
    }
   ],
   "source": [
    "#| label: app:2d_volume_slice\n",
    "\n",
    "@interact(slice_num=IntSlider(min=0, max=rgb_volume.shape[0]-1, step=1, description='Slice Number'))\n",
    "def explore_slices(slice_num):\n",
    "    show_slice(rgb_volume, slice_num)"
   ]
  },
  {
   "cell_type": "code",
   "execution_count": null,
   "id": "c0c5db4f-8436-403c-ba25-e7f1e9873ffb",
   "metadata": {},
   "outputs": [],
   "source": []
  }
 ],
 "metadata": {
  "kernelspec": {
   "display_name": "hspy",
   "language": "python",
   "name": "python3"
  },
  "language_info": {
   "codemirror_mode": {
    "name": "ipython",
    "version": 3
   },
   "file_extension": ".py",
   "mimetype": "text/x-python",
   "name": "python",
   "nbconvert_exporter": "python",
   "pygments_lexer": "ipython3",
   "version": "3.12.6"
  }
 },
 "nbformat": 4,
 "nbformat_minor": 5
}
