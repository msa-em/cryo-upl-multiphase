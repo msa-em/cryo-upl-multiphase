{
 "cells": [
  {
   "cell_type": "markdown",
   "id": "c64dd64a",
   "metadata": {},
   "source": [
    "---\n",
    "title: Coin Cell Holder Notebook\n",
    "---"
   ]
  },
  {
   "cell_type": "code",
   "execution_count": 1,
   "id": "0c35f659-2754-4e16-9e75-7acb57104da1",
   "metadata": {},
   "outputs": [],
   "source": [
    "import k3d\n",
    "from k3d.transform import process_transform_arguments\n",
    "import ipywidgets\n",
    "import numpy as np\n",
    "\n",
    "with open('data/Battery Holder.stl', 'rb') as stl:\n",
    "    data = stl.read()\n",
    "\n",
    "plt_holder = [\n",
    "    k3d.stl(\n",
    "        data,\n",
    "        # wireframe=True,\n",
    "        color=0x008000,\n",
    "    )\n",
    "]\n",
    "\n",
    "process_transform_arguments(plt_holder[0],\n",
    "                            rotation=[3, np.pi / 2, 10, 10])\n",
    "\n",
    "plot = k3d.plot(\n",
    "    grid_visible=False, # hide grid\n",
    "    axes_helper=0, # hide axes\n",
    "    menu_visibility=False, # hide menu\n",
    "    camera_no_rotate=False, # disable rotation\n",
    ")\n",
    "plot += plt_holder[0]"
   ]
  },
  {
   "cell_type": "code",
   "execution_count": 4,
   "id": "ebc66079-8986-47c8-9b0a-d93a3cfef585",
   "metadata": {},
   "outputs": [],
   "source": [
    "layout = ipywidgets.Layout(width=\"400px\")\n",
    "\n",
    "out = ipywidgets.Output(layout=layout)\n",
    "with out:\n",
    "    plot.display()\n",
    "\n",
    "alpha_slider = ipywidgets.FloatSlider(\n",
    "    value=0,\n",
    "    min=-360,\n",
    "    max=360,\n",
    "    step=0.5,\n",
    "    description='alpha [deg]',\n",
    "    # continuous_update=False,\n",
    "    layout=layout\n",
    ")\n",
    "\n",
    "beta_slider = ipywidgets.FloatSlider(\n",
    "    value=0,\n",
    "    min=-360,\n",
    "    max=360,\n",
    "    step=0.5,\n",
    "    description='beta [deg]',\n",
    "    # continuous_update=False,\n",
    "    layout=layout\n",
    ")\n",
    "\n",
    "def return_alpha_tilt(tilt_deg):\n",
    "    return k3d.transform(\n",
    "        rotation=[np.deg2rad(tilt_deg),0,1,0]\n",
    ")\n",
    "\n",
    "def return_beta_tilt(tilt_deg):\n",
    "    return k3d.transform(\n",
    "        rotation=[np.deg2rad(tilt_deg),1,0,0]\n",
    ")\n",
    "\n",
    "def tilt_alpha(change):\n",
    "    alpha_deg = change['new']\n",
    "    tf = return_alpha_tilt(alpha_deg)\n",
    "    \n",
    "    plt_holder[0] = process_transform_arguments(\n",
    "        plt_holder[0],\n",
    "        transform = tf,\n",
    "    )\n",
    "\n",
    "def tilt_beta(change):\n",
    "    beta_deg = change['new']\n",
    "    tf = return_beta_tilt(beta_deg)\n",
    "    \n",
    "    plt_holder[0] = process_transform_arguments(\n",
    "        plt_holder[0],\n",
    "        transform = tf,\n",
    "    )\n",
    "\n",
    "alpha_slider.observe(tilt_alpha,'value')\n",
    "beta_slider.observe(tilt_beta,'value')"
   ]
  },
  {
   "cell_type": "code",
   "execution_count": null,
   "id": "d5edc3fc-4afc-4388-accc-bd4f8892bbfd",
   "metadata": {},
   "outputs": [
    {
     "data": {
      "application/vnd.jupyter.widget-view+json": {
       "model_id": "4f097f037a624d4b92192aea5c2a0402",
       "version_major": 2,
       "version_minor": 0
      },
      "text/plain": [
       "VBox(children=(Output(layout=Layout(width='400px'), outputs=({'output_type': 'display_data', 'data': {'text/pl…"
      ]
     },
     "execution_count": 5,
     "metadata": {},
     "output_type": "execute_result"
    }
   ],
   "source": [
    "#| label: app:mount_stl\n",
    "ipywidgets.VBox(\n",
    "    [\n",
    "        out,\n",
    "        alpha_slider,\n",
    "        beta_slider\n",
    "    ]\n",
    ")"
   ]
  },
  {
   "cell_type": "code",
   "execution_count": null,
   "id": "593852dc-653e-4f8f-a592-4f2b9e647f71",
   "metadata": {},
   "outputs": [],
   "source": []
  }
 ],
 "metadata": {
  "kernelspec": {
   "display_name": "Python 3 (ipykernel)",
   "language": "python",
   "name": "python3"
  },
  "language_info": {
   "codemirror_mode": {
    "name": "ipython",
    "version": 3
   },
   "file_extension": ".py",
   "mimetype": "text/x-python",
   "name": "python",
   "nbconvert_exporter": "python",
   "pygments_lexer": "ipython3",
   "version": "3.12.8"
  }
 },
 "nbformat": 4,
 "nbformat_minor": 5
}
